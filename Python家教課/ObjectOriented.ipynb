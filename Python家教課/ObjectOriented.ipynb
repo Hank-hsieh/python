{
 "cells": [
  {
   "cell_type": "code",
   "execution_count": 1,
   "metadata": {},
   "outputs": [],
   "source": [
    "class Man:\n",
    "    def __init__(self, name, age):\n",
    "        self.name = name\n",
    "        self.age = age\n",
    "    def run(self):\n",
    "        print(\"man\", self.name, \"[\", self.age, \"] run.\")"
   ]
  },
  {
   "cell_type": "code",
   "execution_count": 2,
   "metadata": {},
   "outputs": [
    {
     "name": "stdout",
     "output_type": "stream",
     "text": [
      "man Hank [ 18 ] run.\n"
     ]
    }
   ],
   "source": [
    "man1 = Man(\"Hank\", 18)\n",
    "man1.run()"
   ]
  },
  {
   "cell_type": "code",
   "execution_count": 3,
   "metadata": {},
   "outputs": [
    {
     "name": "stdout",
     "output_type": "stream",
     "text": [
      "man Tim [ 24 ] run.\n"
     ]
    }
   ],
   "source": [
    "man2 = Man(\"Tim\", 24)\n",
    "man2.run()"
   ]
  },
  {
   "cell_type": "code",
   "execution_count": 6,
   "metadata": {},
   "outputs": [],
   "source": [
    "class Superman(Man):\n",
    "    def __init__(self, name, age, gender):\n",
    "        super(Superman, self).__init__(name, age)\n",
    "        self.gender = gender\n",
    "    # overwriting（覆寫）    \n",
    "    def run(self):\n",
    "        print(\"Superman\", self.name, \"[\", self.age, \"] run.\")\n",
    "    def fly(self):\n",
    "        print(\"Superman\", self.name, \"[\", self.gender, \"] fly.\")"
   ]
  },
  {
   "cell_type": "code",
   "execution_count": 7,
   "metadata": {},
   "outputs": [
    {
     "name": "stdout",
     "output_type": "stream",
     "text": [
      "Superman Dwight Howard [ 22 ] run.\n",
      "Superman Dwight Howard [ M ] fly.\n"
     ]
    }
   ],
   "source": [
    "man3 = Superman(\"Dwight Howard\", 22, \"M\")\n",
    "man3.run()\n",
    "man3.fly()"
   ]
  },
  {
   "cell_type": "markdown",
   "metadata": {},
   "source": [
    "![](https://cdn-s3.si.com/s3fs-public/styles/marquee_large_2x/public/videos/2157889318001_3880681185001_DwightHowardSuperman.jpg?itok=ox939Bi9)\n",
    "\n",
    "https://youtu.be/TCQkkWn3sKo"
   ]
  },
  {
   "cell_type": "code",
   "execution_count": null,
   "metadata": {},
   "outputs": [],
   "source": []
  },
  {
   "cell_type": "code",
   "execution_count": null,
   "metadata": {},
   "outputs": [],
   "source": []
  }
 ],
 "metadata": {
  "kernelspec": {
   "display_name": "Python 3",
   "language": "python",
   "name": "python3"
  },
  "language_info": {
   "codemirror_mode": {
    "name": "ipython",
    "version": 3
   },
   "file_extension": ".py",
   "mimetype": "text/x-python",
   "name": "python",
   "nbconvert_exporter": "python",
   "pygments_lexer": "ipython3",
   "version": "3.7.3"
  }
 },
 "nbformat": 4,
 "nbformat_minor": 2
}
