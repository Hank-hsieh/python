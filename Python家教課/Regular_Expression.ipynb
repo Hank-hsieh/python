{
 "cells": [
  {
   "cell_type": "code",
   "execution_count": 1,
   "metadata": {},
   "outputs": [
    {
     "name": "stdout",
     "output_type": "stream",
     "text": [
      "[]\n",
      "['c', 'a', 'a', 'b', 'b']\n",
      "['1', '2', '3']\n",
      "['1', 'd', 'o', 'g', ' ', 't', '2', ' ', '3', 'r', 'i', 't', ' ']\n"
     ]
    }
   ],
   "source": [
    "import re\n",
    "string1 = \"1dog cat2 3rabbit \"\n",
    "print(re.findall(r\"[A-Z]\", string1))\n",
    "print(re.findall(r\"[a-c]\", string1))\n",
    "print(re.findall(r\"[0-9]\", string1))\n",
    "print(re.findall(r\"[^a-c]\", string1))"
   ]
  },
  {
   "cell_type": "code",
   "execution_count": 2,
   "metadata": {},
   "outputs": [
    {
     "name": "stdout",
     "output_type": "stream",
     "text": [
      "['1', '2', '3', '4', '5', '4', '1', '5', '2', '1', '7', '8', '9', '6', '3', '8', '5', '2', '1', '4']\n",
      "['12345', '41521', '78963', '85214']\n"
     ]
    }
   ],
   "source": [
    "# 搜尋數值資料\n",
    "import re\n",
    "s = \"Tim's phone numbers are 12345-41521 and 78963-85214\" \n",
    "print(re.findall(r'\\d', s))\n",
    "print(re.findall(r'\\d{5}', s))"
   ]
  },
  {
   "cell_type": "code",
   "execution_count": 3,
   "metadata": {},
   "outputs": [
    {
     "name": "stdout",
     "output_type": "stream",
     "text": [
      "['ran', 'run']\n"
     ]
    }
   ],
   "source": [
    "import re\n",
    "ptn = r\"r[au]n\"\n",
    "print(re.findall(ptn, \"dog ran runs to cat rain.\"))"
   ]
  },
  {
   "cell_type": "code",
   "execution_count": 4,
   "metadata": {},
   "outputs": [
    {
     "name": "stdout",
     "output_type": "stream",
     "text": [
      "['123456', '789']\n",
      "['1', '2']\n"
     ]
    }
   ],
   "source": [
    "import re\n",
    "pattern = re.compile(r'\\d+')\n",
    "result1 = pattern.findall('hello 123456 789')\n",
    "result2 = pattern.findall('one1two2three3four4', 0, 10) \n",
    "print(result1)\n",
    "print(result2)"
   ]
  },
  {
   "cell_type": "code",
   "execution_count": null,
   "metadata": {},
   "outputs": [],
   "source": [
    "import re\n",
    "str1 = \"abcd abcdd abcb abc\"\n",
    "print(re.findall(r\"abcd?\", str1))\n",
    "print(re.findall(r\"abcd*\", str1)) \n",
    "print(re.findall(r\"abcd+\", str1))\n",
    "\n",
    "# 依據尋找的字元範圍\n",
    "print(re.findall(r\"[a-c]{3}\", str1))\n",
    "print(re.findall(r\"[a-c]{1,4}\", str1))\n",
    "print(re.findall(r\"[a-c]{4,}\",str1))"
   ]
  },
  {
   "cell_type": "code",
   "execution_count": null,
   "metadata": {},
   "outputs": [],
   "source": [
    "# Q1 \n",
    "import re\n",
    "string1 = \"C++ Python Java C# Sqlite Django Numpy Pandas\" \n",
    "print(re.findall(r\"[a-e]\",string1))"
   ]
  },
  {
   "cell_type": "code",
   "execution_count": null,
   "metadata": {},
   "outputs": [],
   "source": [
    "import re\n",
    "p = re.compile(r'[\\s\\,\\;]+') \n",
    "a = p.split('a,b;; c d', 1) \n",
    "print(a)\n",
    "b = p.split('a,b;; c d', 2) \n",
    "print(b)\n",
    "c = p.split('a,b;; c d') \n",
    "print(c)"
   ]
  },
  {
   "cell_type": "code",
   "execution_count": null,
   "metadata": {},
   "outputs": [],
   "source": [
    "import re\n",
    "# pattern 被寫得不夠彈性（只能偵測 \"000\"）\n",
    "inputStr = \"hello 000 world 000\" \n",
    "replacedStr = re.sub(\"000\", \"111\", inputStr)\n",
    "print(replacedStr)\n",
    "# 較佳的寫法\n",
    "inputStr = \"hello 123 world 456\" \n",
    "replacedStr = re.sub(\"\\d+\", \"789\", inputStr)\n",
    "print(replacedStr)"
   ]
  },
  {
   "cell_type": "code",
   "execution_count": null,
   "metadata": {},
   "outputs": [],
   "source": [
    "import re\n",
    "phone = \"2004-959-559\"\n",
    "num = re.sub(r'#.*$', \"+\", phone)\n",
    "print (\"Phone Num : \", num)\n",
    "num = re.sub(r'\\D', \"\", phone) \n",
    "print (\"Phone Num : \", num)"
   ]
  },
  {
   "cell_type": "code",
   "execution_count": null,
   "metadata": {},
   "outputs": [],
   "source": [
    "import re\n",
    "inputStr = \"1970, C language, 1990, python\"\n",
    "replacedStr = re.sub(\"\\d+\", \"2018\", inputStr)\n",
    "print(replacedStr)"
   ]
  },
  {
   "cell_type": "code",
   "execution_count": null,
   "metadata": {},
   "outputs": [],
   "source": [
    "# 寫入一份 email 清單\n",
    "with open(\"email.txt\", mode = \"w\", encoding = \"utf-8\") as file:\n",
    "    file.write(\"$!@33@hotmail.com\\nabc@gm#^ail.com\\nd_ef@yahoo\\ngh.i@outlook.com\\nj-k-l@hotmail.com\\nm_no78@livemail.tw\\n34pqr@gmail.com\\ns+tu@mail.shu.edu.tw\\nvwx@g-mail.nsysu.edu.tw\\ny_+-z@yahoo.com.tw+\")"
   ]
  },
  {
   "cell_type": "code",
   "execution_count": null,
   "metadata": {},
   "outputs": [],
   "source": [
    "# email 表單驗證（是否為合法信箱）\n",
    "import re \n",
    "with open('email.txt', mode = 'r', encoding = 'utf-8') as file:\n",
    "    email = file.readlines()\n",
    "    ptn = r\"(^[a-zA-Z0-9_.+-]+@[a-zA-Z0-9-]+\\.[a-zA-Z0-9-.]+$)\"\n",
    "    for i in email:\n",
    "        print(re.findall(ptn, i))\n",
    "# 不合法的信箱則回傳空 list，代表驗證不通過"
   ]
  },
  {
   "cell_type": "code",
   "execution_count": null,
   "metadata": {},
   "outputs": [],
   "source": []
  }
 ],
 "metadata": {
  "kernelspec": {
   "display_name": "Python 3",
   "language": "python",
   "name": "python3"
  },
  "language_info": {
   "codemirror_mode": {
    "name": "ipython",
    "version": 3
   },
   "file_extension": ".py",
   "mimetype": "text/x-python",
   "name": "python",
   "nbconvert_exporter": "python",
   "pygments_lexer": "ipython3",
   "version": "3.7.3"
  }
 },
 "nbformat": 4,
 "nbformat_minor": 2
}
