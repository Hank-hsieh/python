{
 "cells": [
  {
   "cell_type": "markdown",
   "metadata": {},
   "source": [
    "# Beautiful Soup"
   ]
  },
  {
   "cell_type": "markdown",
   "metadata": {},
   "source": [
    "`Beautiful Soup` 的運作方式就是讀取 HTML 原始碼，自動進行解析並產生一個 BeautifulSoup 物件，此物件中包含了整個 HTML 文件的結構樹，有了這個結構樹之後，就可以輕鬆找出任何有興趣的資料了。\n",
    "\n",
    "以下是一個簡單的小程式，示範如何使用 Beautiful Soup 模組解析原始的 HTML 程式碼："
   ]
  },
  {
   "cell_type": "code",
   "execution_count": 1,
   "metadata": {},
   "outputs": [],
   "source": [
    "# 引入 Beautiful Soup 模組\n",
    "from bs4 import BeautifulSoup\n",
    "\n",
    "# 原始 HTML 程式碼\n",
    "html_doc = \"\"\"\n",
    "<html><head><title>Hello World</title></head>\n",
    "<body><h2>Test Header</h2>\n",
    "<p>This is a test.</p>\n",
    "<a id=\"link1\" href=\"/my_link1\">Link 1</a>\n",
    "<a id=\"link2\" href=\"/my_link2\">Link 2</a>\n",
    "<p>Hello, <b class=\"boldtext\">Bold Text</b></p>\n",
    "</body></html>\n",
    "\"\"\"\n",
    "\n",
    "# 以 Beautiful Soup 解析 HTML 程式碼\n",
    "soup = BeautifulSoup(html_doc, 'html.parser')"
   ]
  },
  {
   "cell_type": "markdown",
   "metadata": {},
   "source": [
    "這裡的 `soup` 就是解析完成後，所產生的結構樹物件，接下來所有資料的搜尋、萃取等操作都會透過這個物件來進行。\n",
    "<br>\n",
    "首先我們可以將完整個 HTML 結構經過排版後輸出，觀察整份文件的輪廓："
   ]
  },
  {
   "cell_type": "code",
   "execution_count": 2,
   "metadata": {},
   "outputs": [
    {
     "data": {
      "text/plain": [
       "'\\n<html><head><title>Hello World</title></head>\\n<body><h2>Test Header</h2>\\n<p>This is a test.</p>\\n<a id=\"link1\" href=\"/my_link1\">Link 1</a>\\n<a id=\"link2\" href=\"/my_link2\">Link 2</a>\\n<p>Hello, <b class=\"boldtext\">Bold Text</b></p>\\n</body></html>\\n'"
      ]
     },
     "execution_count": 2,
     "metadata": {},
     "output_type": "execute_result"
    }
   ],
   "source": [
    "html_doc"
   ]
  },
  {
   "cell_type": "code",
   "execution_count": 3,
   "metadata": {},
   "outputs": [
    {
     "name": "stdout",
     "output_type": "stream",
     "text": [
      "<html>\n",
      " <head>\n",
      "  <title>\n",
      "   Hello World\n",
      "  </title>\n",
      " </head>\n",
      " <body>\n",
      "  <h2>\n",
      "   Test Header\n",
      "  </h2>\n",
      "  <p>\n",
      "   This is a test.\n",
      "  </p>\n",
      "  <a href=\"/my_link1\" id=\"link1\">\n",
      "   Link 1\n",
      "  </a>\n",
      "  <a href=\"/my_link2\" id=\"link2\">\n",
      "   Link 2\n",
      "  </a>\n",
      "  <p>\n",
      "   Hello,\n",
      "   <b class=\"boldtext\">\n",
      "    Bold Text\n",
      "   </b>\n",
      "  </p>\n",
      " </body>\n",
      "</html>\n",
      "\n"
     ]
    }
   ],
   "source": [
    "# 輸出排版後的 HTML 程式碼\n",
    "print(soup.prettify())"
   ]
  },
  {
   "cell_type": "markdown",
   "metadata": {},
   "source": [
    "### 取得節點文字內容\n",
    "若要輸出網頁標題的 HTML 標籤，可以直接指定網頁標題標籤的名稱（`title`），即可將該標籤的節點抓出來："
   ]
  },
  {
   "cell_type": "code",
   "execution_count": 4,
   "metadata": {},
   "outputs": [
    {
     "name": "stdout",
     "output_type": "stream",
     "text": [
      "<title>Hello World</title>\n"
     ]
    }
   ],
   "source": [
    "# 網頁標題 HTML 標籤\n",
    "title_tag = soup.title\n",
    "print(title_tag)"
   ]
  },
  {
   "cell_type": "markdown",
   "metadata": {},
   "source": [
    "HTML 標籤節點的文字內容，可以透過 `string` 屬性存取："
   ]
  },
  {
   "cell_type": "code",
   "execution_count": 6,
   "metadata": {},
   "outputs": [
    {
     "name": "stdout",
     "output_type": "stream",
     "text": [
      "Hello World\n"
     ]
    }
   ],
   "source": [
    "# 網頁的標題文字\n",
    "print(title_tag.string)"
   ]
  },
  {
   "cell_type": "markdown",
   "metadata": {},
   "source": [
    "### 搜尋節點\n",
    "我們可以使用 `find_all` 找出所有特定的 HTML 標籤節點，再以 Python 的迴圈來依序輸出每個超連結的文字："
   ]
  },
  {
   "cell_type": "code",
   "execution_count": 9,
   "metadata": {},
   "outputs": [
    {
     "name": "stdout",
     "output_type": "stream",
     "text": [
      "Link 1\n",
      "Link 2\n"
     ]
    }
   ],
   "source": [
    "# 所有的超連結\n",
    "a_tags = soup.find_all('a')\n",
    "for tag in a_tags:\n",
    "  # 輸出超連結的文字\n",
    "  print(tag.string)"
   ]
  },
  {
   "cell_type": "markdown",
   "metadata": {},
   "source": [
    "### 取出節點屬性\n",
    "若要取出 HTML 節點的各種屬性，可以使用 get，例如輸出每個超連結的網址（`href` 屬性）："
   ]
  },
  {
   "cell_type": "code",
   "execution_count": 7,
   "metadata": {},
   "outputs": [
    {
     "name": "stdout",
     "output_type": "stream",
     "text": [
      "/my_link1\n",
      "/my_link2\n"
     ]
    }
   ],
   "source": [
    "for tag in a_tags:\n",
    "  # 輸出超連結網址\n",
    "  print(tag.get('href'))"
   ]
  },
  {
   "cell_type": "markdown",
   "metadata": {},
   "source": [
    "### 同時搜尋多種標籤\n",
    "若要同時搜尋多種 HTML 標籤，可以使用 list 來指定所有的要列出的 HTML 標籤名稱："
   ]
  },
  {
   "cell_type": "code",
   "execution_count": null,
   "metadata": {},
   "outputs": [],
   "source": [
    "# 搜尋所有超連結與粗體字\n",
    "tags = soup.find_all([\"a\", \"b\"])\n",
    "for tag in tags:\n",
    "  # 輸出超連結的文字\n",
    "  print(tag.string)"
   ]
  },
  {
   "cell_type": "markdown",
   "metadata": {},
   "source": [
    "限制搜尋節點數量\n",
    "`find_all` 預設會輸出所有符合條件的節點，但若是遇到節點數量很多的時候，就會需要比較久的計算時間，如果我們不需要所有符合條件的節點，可以用 `limit` 參數指定搜尋節點數量的上限值，這樣它就只會找出前幾個符合條件的節點："
   ]
  },
  {
   "cell_type": "code",
   "execution_count": null,
   "metadata": {},
   "outputs": [],
   "source": [
    "# 限制搜尋結果數量\n",
    "tags = soup.find_all([\"a\", \"b\"], limit = 2)\n",
    "for tag in tags:\n",
    "  # 輸出超連結的文字\n",
    "  print(tag.string)"
   ]
  },
  {
   "cell_type": "markdown",
   "metadata": {},
   "source": [
    "如果只需要抓出第一個符合條件的節點，可以直接使用 `find`："
   ]
  },
  {
   "cell_type": "code",
   "execution_count": null,
   "metadata": {},
   "outputs": [],
   "source": [
    "# 只抓出第一個符合條件的節點\n",
    "a_tag = soup.find(\"a\")\n",
    "for tag in a_tag:\n",
    "  # 輸出超連結的文字\n",
    "  print(tag.string)"
   ]
  },
  {
   "cell_type": "markdown",
   "metadata": {},
   "source": [
    "### 以 HTML 屬性搜尋"
   ]
  },
  {
   "cell_type": "markdown",
   "metadata": {},
   "source": [
    "我們也可以根據網頁 HTML 元素的屬性來萃取指定的 HTML 節點，例如搜尋 `id` 屬性為 `link2` 的節點："
   ]
  },
  {
   "cell_type": "code",
   "execution_count": null,
   "metadata": {},
   "outputs": [],
   "source": [
    "# 根據 id 搜尋\n",
    "link2_tag = soup.find(id = 'link2')\n",
    "print(link2_tag)"
   ]
  },
  {
   "cell_type": "markdown",
   "metadata": {},
   "source": [
    "我們可以結合 HTML 節點的名稱與屬性進行更精確的搜尋，例如搜尋 href 屬性為 `/my_link1` 的 `a` 節點："
   ]
  },
  {
   "cell_type": "code",
   "execution_count": null,
   "metadata": {},
   "outputs": [],
   "source": [
    "# 搜尋 href 屬性為 /my_link1 的 a 節點\n",
    "a_tag = soup.find_all(\"a\", href = \"/my_link1\")\n",
    "print(a_tag)"
   ]
  },
  {
   "cell_type": "markdown",
   "metadata": {},
   "source": [
    "搜尋屬性時，也可以使用正規表示法，例如以正規表示法比對超連結網址："
   ]
  },
  {
   "cell_type": "code",
   "execution_count": null,
   "metadata": {},
   "outputs": [],
   "source": [
    "import re\n",
    "\n",
    "# 以正規表示法比對超連結網址\n",
    "links = soup.find_all(href = re.compile(\"^/my_link\\d\"))\n",
    "print(links)"
   ]
  },
  {
   "cell_type": "markdown",
   "metadata": {},
   "source": [
    "我們也可以同時使用多個屬性的條件進行篩選："
   ]
  },
  {
   "cell_type": "code",
   "execution_count": null,
   "metadata": {},
   "outputs": [],
   "source": [
    "# 以多個屬性條件來篩選\n",
    "link = soup.find_all(href = re.compile(\"^/my_link\\d\"), id = \"link1\")\n",
    "print(link)"
   ]
  },
  {
   "cell_type": "markdown",
   "metadata": {},
   "source": [
    "### 其他"
   ]
  },
  {
   "cell_type": "markdown",
   "metadata": {},
   "source": [
    "在 HTML5 中有一些屬性名稱若直接寫在 Python 的參數中會有一些問題，例如 `data-*` 這類的屬性直接寫的話，就會產生錯誤訊息："
   ]
  },
  {
   "cell_type": "code",
   "execution_count": null,
   "metadata": {},
   "outputs": [],
   "source": [
    "data_soup = BeautifulSoup('<div data-foo=\"value\">foo!</div>', 'html.parser')"
   ]
  },
  {
   "cell_type": "code",
   "execution_count": null,
   "metadata": {},
   "outputs": [],
   "source": [
    "# 錯誤的用法\n",
    "# data_soup.find_all(data-foo=\"value\")"
   ]
  },
  {
   "cell_type": "markdown",
   "metadata": {},
   "source": [
    "遇到這種狀況，可以把屬性的名稱與值放進一個 dictionary 中，再將此 dictionary 指定給 `attrs` 參數即可："
   ]
  },
  {
   "cell_type": "code",
   "execution_count": null,
   "metadata": {},
   "outputs": [],
   "source": [
    "# 正確的用法\n",
    "data_soup.find_all(attrs = {\"data-foo\" : \"value\"})"
   ]
  },
  {
   "cell_type": "code",
   "execution_count": null,
   "metadata": {},
   "outputs": [],
   "source": []
  }
 ],
 "metadata": {
  "kernelspec": {
   "display_name": "Python 3",
   "language": "python",
   "name": "python3"
  },
  "language_info": {
   "codemirror_mode": {
    "name": "ipython",
    "version": 3
   },
   "file_extension": ".py",
   "mimetype": "text/x-python",
   "name": "python",
   "nbconvert_exporter": "python",
   "pygments_lexer": "ipython3",
   "version": "3.7.3"
  }
 },
 "nbformat": 4,
 "nbformat_minor": 2
}
