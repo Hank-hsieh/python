{
 "cells": [
  {
   "cell_type": "code",
   "execution_count": 3,
   "metadata": {},
   "outputs": [],
   "source": [
    "class school:\n",
    "    def __init__(self, c = 0, e = 0):\n",
    "        self.chinese = c\n",
    "        self.english = e\n",
    "        print('school', self.chinese, \"[\", self.english, \"]\")"
   ]
  },
  {
   "cell_type": "code",
   "execution_count": 4,
   "metadata": {},
   "outputs": [
    {
     "name": "stdout",
     "output_type": "stream",
     "text": [
      "school 90 [ 100 ]\n"
     ]
    }
   ],
   "source": [
    "std1 = school(90, 100)"
   ]
  },
  {
   "cell_type": "code",
   "execution_count": 5,
   "metadata": {},
   "outputs": [
    {
     "name": "stdout",
     "output_type": "stream",
     "text": [
      "school 77 [ 80 ]\n"
     ]
    }
   ],
   "source": [
    "std2 = school(77, 80)"
   ]
  },
  {
   "cell_type": "code",
   "execution_count": 9,
   "metadata": {},
   "outputs": [
    {
     "name": "stdout",
     "output_type": "stream",
     "text": [
      "school 80 [ 60 ]\n",
      "school 70 [ 80 ]\n",
      "a的國文成績: 80\n",
      "a的英文成績: 60\n",
      "b的國文成績: 70\n",
      "b的英文成績: 80\n"
     ]
    }
   ],
   "source": [
    "tim = school(80, 60)\n",
    "hank = school(70, 80)\n",
    "print(\"a的國文成績:\", tim.chinese)\n",
    "print(\"a的英文成績:\", tim.english)\n",
    "print(\"b的國文成績:\", hank.chinese)\n",
    "print(\"b的英文成績:\", hank.english)"
   ]
  },
  {
   "cell_type": "code",
   "execution_count": null,
   "metadata": {},
   "outputs": [],
   "source": []
  }
 ],
 "metadata": {
  "kernelspec": {
   "display_name": "Python 3",
   "language": "python",
   "name": "python3"
  },
  "language_info": {
   "codemirror_mode": {
    "name": "ipython",
    "version": 3
   },
   "file_extension": ".py",
   "mimetype": "text/x-python",
   "name": "python",
   "nbconvert_exporter": "python",
   "pygments_lexer": "ipython3",
   "version": "3.7.3"
  }
 },
 "nbformat": 4,
 "nbformat_minor": 2
}
