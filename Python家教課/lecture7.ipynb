{
 "cells": [
  {
   "cell_type": "code",
   "execution_count": null,
   "metadata": {},
   "outputs": [],
   "source": [
    "def my_func(z):\n",
    "    z += 1\n",
    "    return z\n",
    "y = my_func(4)\n",
    "print(y)"
   ]
  },
  {
   "cell_type": "code",
   "execution_count": null,
   "metadata": {},
   "outputs": [],
   "source": [
    "def sum_AB(a = 70, b = 100):\n",
    "    return a + b \n",
    "print(sum_AB(a = 60, b = 40))"
   ]
  },
  {
   "cell_type": "code",
   "execution_count": 1,
   "metadata": {},
   "outputs": [],
   "source": [
    "def score(result):\n",
    "   \n",
    "    \n",
    "    Math = float(result['Math'])\n",
    "    English = float(result['English'])\n",
    "    Chinese = float(result['Chinese'])\n",
    "\n",
    "    Average = (Math + English + Chinese) / 3\n",
    "\n",
    "    if Average >= 90:\n",
    "        print(\"Congraduation! You got A\")\n",
    "\n",
    "    elif Average >= 80:\n",
    "        print(\"Congraduation! You got B\")\n",
    "\n",
    "    elif Average >= 70:\n",
    "        print(\"Congraduation! You got C\")\n",
    "\n",
    "    elif Average >= 60:\n",
    "        print(\"Congraduation! You got D\")\n",
    "\n",
    "    else:\n",
    "        print(\"You Fail\")\n",
    "    return Average"
   ]
  },
  {
   "cell_type": "code",
   "execution_count": 3,
   "metadata": {},
   "outputs": [
    {
     "name": "stdout",
     "output_type": "stream",
     "text": [
      "Congraduation! You got C\n",
      "77.0\n"
     ]
    }
   ],
   "source": [
    "r = {\"Math\": 76,\n",
    "     \"English\": 88,\n",
    "     \"Chinese\": 67}\n",
    "print(score(r))"
   ]
  },
  {
   "cell_type": "code",
   "execution_count": 22,
   "metadata": {},
   "outputs": [
    {
     "name": "stdout",
     "output_type": "stream",
     "text": [
      "45\n"
     ]
    }
   ],
   "source": [
    "i = 0\n",
    "total = 0\n",
    "while True:\n",
    "    total += i\n",
    "    i += 1\n",
    "    if i > 9:\n",
    "        break\n",
    "print(total)"
   ]
  },
  {
   "cell_type": "code",
   "execution_count": null,
   "metadata": {},
   "outputs": [],
   "source": []
  }
 ],
 "metadata": {
  "kernelspec": {
   "display_name": "Python 3",
   "language": "python",
   "name": "python3"
  },
  "language_info": {
   "codemirror_mode": {
    "name": "ipython",
    "version": 3
   },
   "file_extension": ".py",
   "mimetype": "text/x-python",
   "name": "python",
   "nbconvert_exporter": "python",
   "pygments_lexer": "ipython3",
   "version": "3.7.3"
  }
 },
 "nbformat": 4,
 "nbformat_minor": 2
}
