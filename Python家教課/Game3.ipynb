{
 "cells": [
  {
   "cell_type": "code",
   "execution_count": 2,
   "metadata": {},
   "outputs": [],
   "source": [
    "import random\n",
    "\n",
    "class Machine:\n",
    "    def __init__(self, min, max):\n",
    "        self.answer = random.randint(min, max)\n",
    "        self.minimum = min\n",
    "        self.maximum = max\n",
    "        self.guess_times = 0\n",
    "        \n",
    "    def guess(self, number):\n",
    "        self.guess_times = self.guess_times + 1\n",
    "        if number == self.answer:\n",
    "            return True\n",
    "        elif number < self.answer:\n",
    "            self.minimum = number\n",
    "            return False\n",
    "        else:\n",
    "            self.maximum = number\n",
    "            return False\n",
    "        \n",
    "    def returnInterval(self):\n",
    "        return (self.minimum, self.maximum)"
   ]
  },
  {
   "cell_type": "code",
   "execution_count": 3,
   "metadata": {},
   "outputs": [
    {
     "name": "stdin",
     "output_type": "stream",
     "text": [
      "請輸入下限： 1\n",
      "請輸入上限： 100\n",
      "請輸入[1-100]的數字： 50\n",
      "請輸入[1-50]的數字： 20\n",
      "請輸入[1-20]的數字： 11\n",
      "請輸入[11-20]的數字： 15\n",
      "請輸入[11-15]的數字： 13\n",
      "請輸入[11-13]的數字： 12\n"
     ]
    },
    {
     "name": "stdout",
     "output_type": "stream",
     "text": [
      "你猜對了！總共猜了 6 次。\n"
     ]
    }
   ],
   "source": [
    "min = int(input(\"請輸入下限：\"))\n",
    "max = int(input(\"請輸入上限：\"))\n",
    "\n",
    "mach = Machine(min, max)\n",
    "\n",
    "while True:\n",
    "    interval = mach.returnInterval()\n",
    "    msg = \"請輸入[\" + str(interval[0]) + \"-\" + str(interval[1]) + \"]的數字：\"\n",
    "    n = int(input(msg))\n",
    "    if mach.guess(n) == True:\n",
    "        break\n",
    "    \n",
    "print(\"你猜對了！總共猜了\", mach.guess_times, \"次。\")    "
   ]
  },
  {
   "cell_type": "code",
   "execution_count": null,
   "metadata": {},
   "outputs": [],
   "source": []
  }
 ],
 "metadata": {
  "kernelspec": {
   "display_name": "Python 3",
   "language": "python",
   "name": "python3"
  },
  "language_info": {
   "codemirror_mode": {
    "name": "ipython",
    "version": 3
   },
   "file_extension": ".py",
   "mimetype": "text/x-python",
   "name": "python",
   "nbconvert_exporter": "python",
   "pygments_lexer": "ipython3",
   "version": "3.7.3"
  }
 },
 "nbformat": 4,
 "nbformat_minor": 2
}
