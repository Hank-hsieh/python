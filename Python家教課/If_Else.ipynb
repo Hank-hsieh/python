{
 "cells": [
  {
   "cell_type": "code",
   "execution_count": 1,
   "metadata": {},
   "outputs": [],
   "source": [
    "score = 70.3"
   ]
  },
  {
   "cell_type": "code",
   "execution_count": 2,
   "metadata": {},
   "outputs": [
    {
     "name": "stdout",
     "output_type": "stream",
     "text": [
      "PASS\n"
     ]
    }
   ],
   "source": [
    "if score >= 60:\n",
    "    print(\"PASS\")\n",
    "else:\n",
    "    print(\"FAIL\")"
   ]
  },
  {
   "cell_type": "code",
   "execution_count": 3,
   "metadata": {},
   "outputs": [
    {
     "name": "stdout",
     "output_type": "stream",
     "text": [
      "RANK C\n"
     ]
    }
   ],
   "source": [
    "if score >= 90:\n",
    "    print(\"RANK A\")\n",
    "elif score >= 80:\n",
    "    print(\"RANK B\")\n",
    "elif score >= 70:\n",
    "    print(\"RANK C\")\n",
    "elif score >= 60:\n",
    "    print(\"RANK D\")\n",
    "else:\n",
    "    print(\"FAIL\")"
   ]
  },
  {
   "cell_type": "code",
   "execution_count": 3,
   "metadata": {},
   "outputs": [
    {
     "name": "stdout",
     "output_type": "stream",
     "text": [
      "RANK D\n"
     ]
    }
   ],
   "source": [
    "# 條件設定要按照邏輯順序，否則容易發生問題\n",
    "if score >= 60:\n",
    "    print(\"RANK D\")\n",
    "elif score >= 70:\n",
    "    print(\"RANK C\")\n",
    "elif score >= 80:\n",
    "    print(\"RANK B\")\n",
    "elif score >= 90:\n",
    "    print(\"RANK A\")\n",
    "else:\n",
    "    print(\"FAIL\")"
   ]
  },
  {
   "cell_type": "code",
   "execution_count": 28,
   "metadata": {},
   "outputs": [
    {
     "name": "stdout",
     "output_type": "stream",
     "text": [
      "0\n",
      "<class 'int'>\n"
     ]
    }
   ],
   "source": [
    "import random \n",
    "com_choice = random.randint(0, 2)\n",
    "print(com_choice)\n",
    "print(type(com_choice))"
   ]
  },
  {
   "cell_type": "code",
   "execution_count": 22,
   "metadata": {},
   "outputs": [
    {
     "name": "stdin",
     "output_type": "stream",
     "text": [
      "請出拳 [0] 剪⼑ [1] ⽯頭 [2] 布 2\n"
     ]
    },
    {
     "name": "stdout",
     "output_type": "stream",
     "text": [
      "2\n",
      "<class 'int'>\n"
     ]
    }
   ],
   "source": [
    "your_choice = int(input(\"請出拳 [0] 剪⼑ [1] ⽯頭 [2] 布\"))\n",
    "print(your_choice)\n",
    "print(type(your_choice))"
   ]
  },
  {
   "cell_type": "code",
   "execution_count": 23,
   "metadata": {},
   "outputs": [
    {
     "name": "stdout",
     "output_type": "stream",
     "text": [
      "電腦獲勝\n"
     ]
    }
   ],
   "source": [
    "if com_choice == your_choice:\n",
    "    print(\"平手\")\n",
    "elif com_choice == (your_choice + 1) % 3:\n",
    "    print(\"電腦獲勝\")\n",
    "else:\n",
    "    print(\"你贏了\")"
   ]
  },
  {
   "cell_type": "code",
   "execution_count": 11,
   "metadata": {},
   "outputs": [
    {
     "name": "stdin",
     "output_type": "stream",
     "text": [
      "請出拳 [0] 剪⼑ [1] ⽯頭 [2] 布 1\n"
     ]
    },
    {
     "name": "stdout",
     "output_type": "stream",
     "text": [
      "你的出拳 1\n",
      "電腦出拳 2\n",
      "電腦獲勝\n"
     ]
    }
   ],
   "source": [
    "import random \n",
    "\n",
    "your_choice = int(input(\"請出拳 [0] 剪⼑ [1] ⽯頭 [2] 布\"))\n",
    "print(\"你的出拳\", your_choice)\n",
    "\n",
    "com_choice = random.randint(0, 2)\n",
    "print(\"電腦出拳\", com_choice)\n",
    "\n",
    "if com_choice == your_choice:\n",
    "    print(\"平手\")\n",
    "elif com_choice == (your_choice + 1) % 3:\n",
    "    print(\"電腦獲勝\")\n",
    "else:\n",
    "    print(\"你贏了\")"
   ]
  },
  {
   "cell_type": "code",
   "execution_count": null,
   "metadata": {},
   "outputs": [],
   "source": []
  }
 ],
 "metadata": {
  "kernelspec": {
   "display_name": "Python 3",
   "language": "python",
   "name": "python3"
  },
  "language_info": {
   "codemirror_mode": {
    "name": "ipython",
    "version": 3
   },
   "file_extension": ".py",
   "mimetype": "text/x-python",
   "name": "python",
   "nbconvert_exporter": "python",
   "pygments_lexer": "ipython3",
   "version": "3.7.3"
  }
 },
 "nbformat": 4,
 "nbformat_minor": 2
}
