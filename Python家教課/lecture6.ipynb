{
 "cells": [
  {
   "cell_type": "code",
   "execution_count": 1,
   "metadata": {},
   "outputs": [
    {
     "name": "stdout",
     "output_type": "stream",
     "text": [
      "<class 'list'>\n"
     ]
    }
   ],
   "source": [
    "list_a = ['Hello', 37.5, 8]\n",
    "print(type(list_a))"
   ]
  },
  {
   "cell_type": "code",
   "execution_count": 2,
   "metadata": {},
   "outputs": [
    {
     "name": "stdout",
     "output_type": "stream",
     "text": [
      "37.5\n"
     ]
    }
   ],
   "source": [
    "print(list_a[1])"
   ]
  },
  {
   "cell_type": "code",
   "execution_count": 10,
   "metadata": {},
   "outputs": [
    {
     "name": "stdout",
     "output_type": "stream",
     "text": [
      "{'firstName': 'Hank', 'lastName': 'Hsieh', 'hobbies': {'first': 'music', 'second': 'swim', 'third': 'game'}, 'degree': ['senior', 'junior']}\n"
     ]
    }
   ],
   "source": [
    "intro = {'firstName' : 'Hank', \n",
    "         'lastName' : ('Hsieh'), \n",
    "         'hobbies' : {'first' : 'music', \n",
    "                      'second' : 'swim', \n",
    "                      'third' : 'game'},\n",
    "         'degree' : ['senior', 'junior']}\n",
    "print(intro)"
   ]
  },
  {
   "cell_type": "code",
   "execution_count": 17,
   "metadata": {},
   "outputs": [
    {
     "name": "stdout",
     "output_type": "stream",
     "text": [
      "5\n"
     ]
    }
   ],
   "source": [
    "def my_func(z):\n",
    "    z += 1\n",
    "    return z\n",
    "y = my_func(4)\n",
    "print(y)"
   ]
  },
  {
   "cell_type": "code",
   "execution_count": 20,
   "metadata": {},
   "outputs": [
    {
     "name": "stdout",
     "output_type": "stream",
     "text": [
      "100\n"
     ]
    }
   ],
   "source": [
    "def sum_AB(a = 70, b = 100):\n",
    "    return a + b \n",
    "print(sum_AB(a = 60, b = 40))"
   ]
  },
  {
   "cell_type": "code",
   "execution_count": 44,
   "metadata": {},
   "outputs": [],
   "source": [
    "def score(Math, English, Chinese):\n",
    "    print(Math, English, Chinese)\n",
    "    \n",
    "    \n",
    "    Math = float(Math)\n",
    "    English = float(English)\n",
    "    Chinese = float(Chinese)\n",
    "\n",
    "    Average = (Math + English + Chinese) / 3\n",
    "\n",
    "    if Average >= 90:\n",
    "        print(\"Congraduation! You got A\")\n",
    "\n",
    "    elif Average >= 80:\n",
    "        print(\"Congraduation! You got B\")\n",
    "\n",
    "    elif Average >= 70:\n",
    "        print(\"Congraduation! You got C\")\n",
    "\n",
    "    elif Average >= 60:\n",
    "        print(\"Congraduation! You got D\")\n",
    "\n",
    "    else:\n",
    "        print(\"You Fail\")\n",
    "    return Average"
   ]
  },
  {
   "cell_type": "code",
   "execution_count": 36,
   "metadata": {},
   "outputs": [
    {
     "name": "stdout",
     "output_type": "stream",
     "text": [
      "Congraduation! You got C\n",
      "71.0\n"
     ]
    }
   ],
   "source": [
    "print(score(68, 79, 66))"
   ]
  },
  {
   "cell_type": "code",
   "execution_count": null,
   "metadata": {},
   "outputs": [],
   "source": [
    "Name = input(\"Please enter your name \")\n",
    "Math = input(\"Please enter your math score \")\n",
    "English = input(\"Please enter your english score \")\n",
    "Chinese = input(\"Please enter your chinese score \")\n",
    "\n",
    "print(score(Math = Math, English = English, Chinese = Chinese))"
   ]
  },
  {
   "cell_type": "code",
   "execution_count": null,
   "metadata": {},
   "outputs": [],
   "source": []
  }
 ],
 "metadata": {
  "kernelspec": {
   "display_name": "Python 3",
   "language": "python",
   "name": "python3"
  },
  "language_info": {
   "codemirror_mode": {
    "name": "ipython",
    "version": 3
   },
   "file_extension": ".py",
   "mimetype": "text/x-python",
   "name": "python",
   "nbconvert_exporter": "python",
   "pygments_lexer": "ipython3",
   "version": "3.7.3"
  }
 },
 "nbformat": 4,
 "nbformat_minor": 2
}
