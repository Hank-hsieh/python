{
 "cells": [
  {
   "cell_type": "markdown",
   "metadata": {},
   "source": [
    "### 迴圈 ###"
   ]
  },
  {
   "cell_type": "markdown",
   "metadata": {},
   "source": [
    "##### While迴圈 #####"
   ]
  },
  {
   "cell_type": "code",
   "execution_count": 1,
   "metadata": {},
   "outputs": [
    {
     "name": "stdout",
     "output_type": "stream",
     "text": [
      "result = 55\n"
     ]
    }
   ],
   "source": [
    "# 初始條件\n",
    "result = 0\n",
    "times = 0\n",
    "# 判斷條件\n",
    "while times < 10:\n",
    "    # 你的程式碼\n",
    "    result = result + (times + 1)\n",
    "    # 步進\n",
    "    times = times + 1\n",
    "print(\"result =\", result)"
   ]
  },
  {
   "cell_type": "markdown",
   "metadata": {},
   "source": [
    "##### for迴圈 + 群集型態 #####"
   ]
  },
  {
   "cell_type": "markdown",
   "metadata": {},
   "source": [
    "###### List ######"
   ]
  },
  {
   "cell_type": "code",
   "execution_count": 2,
   "metadata": {},
   "outputs": [
    {
     "name": "stdout",
     "output_type": "stream",
     "text": [
      "Jeremy Lin\n",
      "Kawhi Leonard\n",
      "Pascal Siakam\n"
     ]
    }
   ],
   "source": [
    "name_list = [\"Jeremy Lin\", \"Kawhi Leonard\", \"Pascal Siakam\"]\n",
    "for single_name in name_list:\n",
    "    print(single_name)"
   ]
  },
  {
   "cell_type": "markdown",
   "metadata": {},
   "source": [
    "###### Set ######"
   ]
  },
  {
   "cell_type": "code",
   "execution_count": 3,
   "metadata": {},
   "outputs": [
    {
     "name": "stdout",
     "output_type": "stream",
     "text": [
      "Kawhi Leonard\n",
      "Pascal Siakam\n",
      "Jeremy Lin\n"
     ]
    }
   ],
   "source": [
    "# 重複的資料不會印出\n",
    "name_list = {\"Jeremy Lin\", \"Kawhi Leonard\", \"Pascal Siakam\", \"Jeremy Lin\"}\n",
    "for single_name in name_list:\n",
    "    print(single_name)"
   ]
  },
  {
   "cell_type": "markdown",
   "metadata": {},
   "source": [
    "###### Dict ######"
   ]
  },
  {
   "cell_type": "code",
   "execution_count": 4,
   "metadata": {},
   "outputs": [
    {
     "name": "stdout",
     "output_type": "stream",
     "text": [
      "Name: Jeremy Lin\n",
      "Height: 191\n",
      "Weight: 91\n"
     ]
    }
   ],
   "source": [
    "ppl_info = {\"Name\": \"Jeremy Lin\", \"Height\": 191, \"Weight\": 91}\n",
    "for single_key in ppl_info:\n",
    "    print(single_key + \":\", ppl_info[single_key])"
   ]
  },
  {
   "cell_type": "markdown",
   "metadata": {},
   "source": [
    "##### range #####"
   ]
  },
  {
   "cell_type": "code",
   "execution_count": 8,
   "metadata": {},
   "outputs": [
    {
     "name": "stdout",
     "output_type": "stream",
     "text": [
      "1 2 3 4 5 6 7 8 9 10 "
     ]
    }
   ],
   "source": [
    "# from 0 lower than 8\n",
    "for single_number in range(0, 10):\n",
    "    print(single_number + 1, end = \" \")"
   ]
  },
  {
   "cell_type": "markdown",
   "metadata": {},
   "source": [
    "##### 剛剛 while 迴圈的範例以 for 迴圈撰寫如下 #####"
   ]
  },
  {
   "cell_type": "code",
   "execution_count": 7,
   "metadata": {},
   "outputs": [
    {
     "name": "stdout",
     "output_type": "stream",
     "text": [
      "result = 55\n"
     ]
    }
   ],
   "source": [
    "result = 0\n",
    "for single_number in range(0, 10):\n",
    "    result = result + (single_number + 1)\n",
    "    # print(\"result = \", result)\n",
    "print(\"result =\", result)    "
   ]
  },
  {
   "cell_type": "markdown",
   "metadata": {},
   "source": [
    "### 自定義函數 ###"
   ]
  },
  {
   "cell_type": "code",
   "execution_count": 16,
   "metadata": {},
   "outputs": [],
   "source": [
    "def add(num1, num2):\n",
    "    num3 = num1 + num2\n",
    "    return num3"
   ]
  },
  {
   "cell_type": "code",
   "execution_count": 10,
   "metadata": {},
   "outputs": [
    {
     "data": {
      "text/plain": [
       "8.2"
      ]
     },
     "execution_count": 10,
     "metadata": {},
     "output_type": "execute_result"
    }
   ],
   "source": [
    "add(3, 5.2)"
   ]
  },
  {
   "cell_type": "code",
   "execution_count": 12,
   "metadata": {},
   "outputs": [
    {
     "data": {
      "text/plain": [
       "'Hello World'"
      ]
     },
     "execution_count": 12,
     "metadata": {},
     "output_type": "execute_result"
    }
   ],
   "source": [
    "add(\"Hello \", \"World\")"
   ]
  },
  {
   "cell_type": "code",
   "execution_count": 23,
   "metadata": {},
   "outputs": [
    {
     "data": {
      "text/plain": [
       "'hello3'"
      ]
     },
     "execution_count": 23,
     "metadata": {},
     "output_type": "execute_result"
    }
   ],
   "source": [
    "# 相加資料型態不同會產生錯誤訊息\n",
    "# add(\"hello\", 3)\n",
    "add(\"hello\", str(3))"
   ]
  },
  {
   "cell_type": "code",
   "execution_count": 24,
   "metadata": {},
   "outputs": [],
   "source": [
    "def prettifyString(prefix, s, postfix):\n",
    "    result = prefix + s + postfix\n",
    "    return result"
   ]
  },
  {
   "cell_type": "code",
   "execution_count": 25,
   "metadata": {},
   "outputs": [
    {
     "data": {
      "text/plain": [
       "'Hello World'"
      ]
     },
     "execution_count": 25,
     "metadata": {},
     "output_type": "execute_result"
    }
   ],
   "source": [
    "# 定義函式時有三個參數，呼叫時就要給三個參數\n",
    "prettifyString(\"Hello\", \" \", \"World\")"
   ]
  },
  {
   "cell_type": "code",
   "execution_count": 26,
   "metadata": {},
   "outputs": [
    {
     "ename": "TypeError",
     "evalue": "prettifyString() missing 1 required positional argument: 'postfix'",
     "output_type": "error",
     "traceback": [
      "\u001b[0;31m---------------------------------------------------------------------------\u001b[0m",
      "\u001b[0;31mTypeError\u001b[0m                                 Traceback (most recent call last)",
      "\u001b[0;32m<ipython-input-26-45ca58a9dbcc>\u001b[0m in \u001b[0;36m<module>\u001b[0;34m\u001b[0m\n\u001b[1;32m      1\u001b[0m \u001b[0;31m# 如果少給則產生錯誤訊息\u001b[0m\u001b[0;34m\u001b[0m\u001b[0;34m\u001b[0m\u001b[0;34m\u001b[0m\u001b[0m\n\u001b[0;32m----> 2\u001b[0;31m \u001b[0mprettifyString\u001b[0m\u001b[0;34m(\u001b[0m\u001b[0;34m\"Hello\"\u001b[0m\u001b[0;34m,\u001b[0m \u001b[0;34m\"World\"\u001b[0m\u001b[0;34m)\u001b[0m\u001b[0;34m\u001b[0m\u001b[0;34m\u001b[0m\u001b[0m\n\u001b[0m",
      "\u001b[0;31mTypeError\u001b[0m: prettifyString() missing 1 required positional argument: 'postfix'"
     ]
    }
   ],
   "source": [
    "# 如果少給則產生錯誤訊息\n",
    "# prettifyString(\"Hello\", \"World\")"
   ]
  },
  {
   "cell_type": "markdown",
   "metadata": {},
   "source": [
    "##### 參數帶有預設值 #####"
   ]
  },
  {
   "cell_type": "code",
   "execution_count": 27,
   "metadata": {},
   "outputs": [],
   "source": [
    "def prettifyString(prefix = \"Hello\", s = \" \", postfix = \"World\"):\n",
    "    result = prefix + s + postfix\n",
    "    return result"
   ]
  },
  {
   "cell_type": "code",
   "execution_count": 29,
   "metadata": {},
   "outputs": [
    {
     "name": "stdout",
     "output_type": "stream",
     "text": [
      "Hello World\n",
      "Hello, Hank Hsieh\n",
      "Hank Hsieh\n"
     ]
    }
   ],
   "source": [
    "# 不給參數，使用預設值\n",
    "print(prettifyString())\n",
    "# 取代預設值\n",
    "print(prettifyString(\"Hello,\", \" Hank \", \"Hsieh\"))\n",
    "# 跳過部分預設值\n",
    "print(prettifyString(prefix = \"Hank\", postfix = \"Hsieh\"))"
   ]
  },
  {
   "cell_type": "code",
   "execution_count": 30,
   "metadata": {},
   "outputs": [
    {
     "ename": "SyntaxError",
     "evalue": "non-default argument follows default argument (<ipython-input-30-449104af772d>, line 2)",
     "output_type": "error",
     "traceback": [
      "\u001b[0;36m  File \u001b[0;32m\"<ipython-input-30-449104af772d>\"\u001b[0;36m, line \u001b[0;32m2\u001b[0m\n\u001b[0;31m    def prettifyString(prefix = \"Hi\", s, postfix):\u001b[0m\n\u001b[0m                      ^\u001b[0m\n\u001b[0;31mSyntaxError\u001b[0m\u001b[0;31m:\u001b[0m non-default argument follows default argument\n"
     ]
    }
   ],
   "source": [
    "# 一但使用預設值，後面所有的參數都要有預設值\n",
    "# def prettifyString(prefix = \"Hi\", s, postfix):\n",
    "#    result = prefix + s + postfix\n",
    "#    return result"
   ]
  },
  {
   "cell_type": "markdown",
   "metadata": {},
   "source": [
    "##### 不定參數（帶入多個參數） #####"
   ]
  },
  {
   "cell_type": "code",
   "execution_count": 31,
   "metadata": {},
   "outputs": [
    {
     "name": "stdout",
     "output_type": "stream",
     "text": [
      "result = 28\n"
     ]
    }
   ],
   "source": [
    "# 未使用不定參數\n",
    "def add(num_list):\n",
    "    result = 0\n",
    "    for single_number in num_list:\n",
    "        result += single_number\n",
    "    return result\n",
    "\n",
    "# 必須自行定義 List資料型態[]\n",
    "print(\"result =\", add([3, 4, 5, 7, 9]))"
   ]
  },
  {
   "cell_type": "code",
   "execution_count": 32,
   "metadata": {},
   "outputs": [
    {
     "name": "stdout",
     "output_type": "stream",
     "text": [
      "result = 28\n"
     ]
    }
   ],
   "source": [
    "# 使用不定參數（ * 代表以 List資料型態接收參數）\n",
    "def add(*num_list):\n",
    "    result = 0\n",
    "    for single_number in num_list:\n",
    "        result += single_number\n",
    "    return result\n",
    "\n",
    "# 參數會自動用List資料型態包裝\n",
    "print(\"result =\", add(3, 4, 5, 7, 9))"
   ]
  },
  {
   "cell_type": "code",
   "execution_count": 35,
   "metadata": {},
   "outputs": [
    {
     "name": "stdout",
     "output_type": "stream",
     "text": [
      "result = 41.2\n"
     ]
    }
   ],
   "source": [
    "# 使用不定參數（ ** 代表以 Dict資料型態接收參數）\n",
    "def add(*args, **kwargs):\n",
    "    result = 0\n",
    "    for single_number in args:\n",
    "        result = result + single_number\n",
    "    if \"mul\" in kwargs:\n",
    "        result = result * kwargs[\"mul\"]\n",
    "    if \"plus\" in kwargs:\n",
    "        result = result + kwargs[\"plus\"]    \n",
    "    return result\n",
    "\n",
    "# 參數會自動用List資料型態包裝\n",
    "# (3 + 4 + 5) * 3 + 5.2\n",
    "print(\"result =\", add(3, 4, 5, mul = 3, plus = 5.2))"
   ]
  },
  {
   "cell_type": "code",
   "execution_count": 66,
   "metadata": {},
   "outputs": [
    {
     "name": "stdout",
     "output_type": "stream",
     "text": [
      "1\n",
      "2\n",
      "3\n",
      "5\n",
      "39\n",
      "18\n",
      "23\n"
     ]
    }
   ],
   "source": [
    "import random\n",
    "number_set = set()\n",
    "while len(number_set) < 7:\n",
    "    number = random.randint(1, 48)\n",
    "    if int(number / 10) != 4 and (number % 10) != 4:\n",
    "        number_set.add(number)\n",
    "for num in number_set:\n",
    "    print(num)"
   ]
  },
  {
   "cell_type": "code",
   "execution_count": 56,
   "metadata": {},
   "outputs": [
    {
     "data": {
      "text/plain": [
       "4"
      ]
     },
     "execution_count": 56,
     "metadata": {},
     "output_type": "execute_result"
    }
   ],
   "source": [
    "int(42 / 10)"
   ]
  },
  {
   "cell_type": "code",
   "execution_count": 59,
   "metadata": {},
   "outputs": [
    {
     "data": {
      "text/plain": [
       "4"
      ]
     },
     "execution_count": 59,
     "metadata": {},
     "output_type": "execute_result"
    }
   ],
   "source": [
    "4 % 10"
   ]
  },
  {
   "cell_type": "code",
   "execution_count": null,
   "metadata": {},
   "outputs": [],
   "source": []
  }
 ],
 "metadata": {
  "kernelspec": {
   "display_name": "Python 3",
   "language": "python",
   "name": "python3"
  },
  "language_info": {
   "codemirror_mode": {
    "name": "ipython",
    "version": 3
   },
   "file_extension": ".py",
   "mimetype": "text/x-python",
   "name": "python",
   "nbconvert_exporter": "python",
   "pygments_lexer": "ipython3",
   "version": "3.7.3"
  }
 },
 "nbformat": 4,
 "nbformat_minor": 2
}
